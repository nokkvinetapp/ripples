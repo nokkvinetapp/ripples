{
 "cells": [
  {
   "cell_type": "code",
   "execution_count": 3,
   "id": "eab1a112",
   "metadata": {},
   "outputs": [],
   "source": [
    "greeting = \"Hello, my name is Nokkvi and I'm working on Ripples\""
   ]
  },
  {
   "cell_type": "code",
   "execution_count": 9,
   "id": "70608fec",
   "metadata": {},
   "outputs": [],
   "source": [
    "import matplotlib.pyplot as plt\n",
    "import numpy as np\n",
    "import pandas as pd"
   ]
  },
  {
   "cell_type": "code",
   "execution_count": 8,
   "id": "2a2a18d6",
   "metadata": {},
   "outputs": [
    {
     "data": {
      "image/png": "[encoded data removed]",
      "text/plain": [
       "<Figure size 432x288 with 1 Axes>"
      ]
     },
     "metadata": {
      "needs_background": "light"
     },
     "output_type": "display_data"
    }
   ],
   "source": [
    "words = greeting.split(\" \")\n",
    "\n",
    "word_length = [len(w) for w in words]\n",
    "plt.bar(words, word_length)\n",
    "plt.show()"
   ]
  },
  {
   "cell_type": "code",
   "execution_count": 17,
   "id": "b74fbf45",
   "metadata": {},
   "outputs": [
    {
     "name": "stdout",
     "output_type": "stream",
     "text": [
      "             date      time  Air_Temp  Barometric_Press  Dew_Point  \\\n",
      "0      2013_01_01   0:03:23      30.8              28.3       21.3   \n",
      "1      2013_01_01   6:29:08      28.0              28.4       24.2   \n",
      "2      2013_01_01   6:35:16      28.1              28.4       24.6   \n",
      "3      2013_01_01   6:41:25      28.1              28.4       24.6   \n",
      "4      2013_01_01   6:47:33      28.0              28.4       24.3   \n",
      "...           ...       ...       ...               ...        ...   \n",
      "72269  2013_12_31  23:32:12      35.9              28.2       33.3   \n",
      "72270  2013_12_31  23:38:20      35.8              28.2       32.9   \n",
      "72271  2013_12_31  23:44:29      35.7              28.2       32.8   \n",
      "72272  2013_12_31  23:50:38      35.7              28.2       32.6   \n",
      "72273  2013_12_31  23:56:47      35.7              28.2       32.8   \n",
      "\n",
      "       Relative_Humidity  Wind_Dir  Wind_Gust  Wind_Speed  \n",
      "0                   67.4      98.6          4         0.0  \n",
      "1                   85.2      61.8          2         0.0  \n",
      "2                   86.6      52.2          1         0.0  \n",
      "3                   86.4      62.8          2         0.0  \n",
      "4                   85.6      45.6          2         0.2  \n",
      "...                  ...       ...        ...         ...  \n",
      "72269               90.0     150.4         17        11.6  \n",
      "72270               89.0     146.0         15        10.0  \n",
      "72271               88.8     150.2         15        10.0  \n",
      "72272               88.2     163.2         15         8.2  \n",
      "72273               89.0     156.6         16        12.2  \n",
      "\n",
      "[72274 rows x 9 columns]\n"
     ]
    }
   ],
   "source": [
    "df = pd.read_csv('inputs/Environmental_Data_Deep_Moor_2013.csv')\n",
    "print(df)"
   ]
  },
  {
   "cell_type": "code",
   "execution_count": 20,
   "id": "2a3f9425",
   "metadata": {},
   "outputs": [],
   "source": [
    "# this is awesome\n",
    "df_week1 = df[df['date'].between('2013_01_01','2013_01_07')]"
   ]
  },
  {
   "cell_type": "code",
   "execution_count": 23,
   "id": "52d08ae5",
   "metadata": {
    "scrolled": true
   },
   "outputs": [
    {
     "data": {
      "text/plain": [
       "[<matplotlib.lines.Line2D at 0x7fac28cdf2e0>]"
      ]
     },
     "execution_count": 23,
     "metadata": {},
     "output_type": "execute_result"
    },
    {
     "data": {
      "image/png": "[encoded data removed]",
      "text/plain": [
       "<Figure size 432x288 with 1 Axes>"
      ]
     },
     "metadata": {
      "needs_background": "light"
     },
     "output_type": "display_data"
    }
   ],
   "source": [
    "plt.plot(df_week1['Air_Temp'])"
   ]
  },
  {
   "cell_type": "code",
   "execution_count": null,
   "id": "f8694adf",
   "metadata": {},
   "outputs": [],
   "source": []
  }
 ],
 "metadata": {
  "kernelspec": {
   "display_name": "Python 3",
   "language": "python",
   "name": "python3"
  },
  "language_info": {
   "codemirror_mode": {
    "name": "ipython",
    "version": 3
   },
   "file_extension": ".py",
   "mimetype": "text/x-python",
   "name": "python",
   "nbconvert_exporter": "python",
   "pygments_lexer": "ipython3",
   "version": "3.9.5"
  }
 },
 "nbformat": 4,
 "nbformat_minor": 5
}
