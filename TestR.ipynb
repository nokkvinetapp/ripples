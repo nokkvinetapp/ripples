{
 "cells": [
  {
   "cell_type": "code",
   "execution_count": 7,
   "id": "07d05e45-2b45-486c-9e06-7c405cfb0f42",
   "metadata": {},
   "outputs": [],
   "source": [
    "library(\"sparklyr\", warn.conflict =FALSE)\n",
    "library(\"dplyr\", warn.conflict =FALSE)"
   ]
  },
  {
   "cell_type": "code",
   "execution_count": 8,
   "id": "a7f39e60-7125-4a06-bcff-d00a0770c769",
   "metadata": {},
   "outputs": [],
   "source": [
    "var = 2\n",
    "bar = 3"
   ]
  },
  {
   "cell_type": "code",
   "execution_count": 9,
   "id": "024fba2e-aed6-4643-99ae-9a6a5eed66d3",
   "metadata": {},
   "outputs": [
    {
     "data": {
      "text/html": [
       "5"
      ],
      "text/latex": [
       "5"
      ],
      "text/markdown": [
       "5"
      ],
      "text/plain": [
       "[1] 5"
      ]
     },
     "metadata": {},
     "output_type": "display_data"
    }
   ],
   "source": [
    "var + bar"
   ]
  },
  {
   "cell_type": "code",
   "execution_count": 10,
   "id": "bd246585-4801-4157-bfcc-1e2e0f7f0dfe",
   "metadata": {},
   "outputs": [
    {
     "data": {
      "text/html": [
       "0.666666666666667"
      ],
      "text/latex": [
       "0.666666666666667"
      ],
      "text/markdown": [
       "0.666666666666667"
      ],
      "text/plain": [
       "[1] 0.6666667"
      ]
     },
     "metadata": {},
     "output_type": "display_data"
    }
   ],
   "source": [
    "var/bar"
   ]
  },
  {
   "cell_type": "code",
   "execution_count": null,
   "id": "29064116-6a2a-4a7d-8ced-097a975dfed9",
   "metadata": {},
   "outputs": [],
   "source": []
  }
 ],
 "metadata": {
  "kernelspec": {
   "display_name": "R",
   "language": "R",
   "name": "ir"
  },
  "language_info": {
   "codemirror_mode": "r",
   "file_extension": ".r",
   "mimetype": "text/x-r-source",
   "name": "R",
   "pygments_lexer": "r",
   "version": "4.0.5"
  }
 },
 "nbformat": 4,
 "nbformat_minor": 5
}
